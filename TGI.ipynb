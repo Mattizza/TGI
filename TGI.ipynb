{
 "cells": [
  {
   "cell_type": "code",
   "execution_count": 50,
   "metadata": {},
   "outputs": [],
   "source": [
    "\n",
    "import numpy as np\n",
    "import pandas as pd\n",
    "import matplotlib.pyplot as plt\n"
   ]
  },
  {
   "cell_type": "code",
   "execution_count": 54,
   "metadata": {},
   "outputs": [
    {
     "data": {
      "text/plain": [
       "<matplotlib.collections.PathCollection at 0x20724fd1600>"
      ]
     },
     "execution_count": 54,
     "metadata": {},
     "output_type": "execute_result"
    },
    {
     "data": {
      "image/png": "[encoded data removed]",
      "text/plain": [
       "<Figure size 640x480 with 1 Axes>"
      ]
     },
     "metadata": {},
     "output_type": "display_data"
    }
   ],
   "source": [
    "\n",
    "x = np.linspace(-5, 5, 20)\n",
    "y = x ** 2 + x + 5 * np.cos(x) + 6\n",
    "\n",
    "colors = ['red' if i in [3, 4, 5, 6, 7] else 'blue' for i in range(len(x))]\n",
    "\n",
    "fig, ax = plt.subplots()\n",
    "\n",
    "ax.scatter(x, y, c = colors, s = 0.5)\n"
   ]
  },
  {
   "cell_type": "code",
   "execution_count": null,
   "metadata": {},
   "outputs": [],
   "source": [
    "for i in [2, 4]:\n",
    "    dx_ = x[i+1] - x[i]\n",
    "    dx.append(dx_)\n",
    "    dy_ = y[i+1] - y[i]\n",
    "    dy.append(dy_)\n",
    "    # ax.arrow(x[i], y[i], dx_, dy_, color='red', head_width=0.2)\n",
    "\n",
    "def compute_intersection(x1, y1, dx1, dy1, x2, y2, dx2, dy2):\n",
    "    # Compute t1 and t2\n",
    "    t1 = (x2 - x1 + dx2 * (y1 - y2) / dy2) / (dx1 - dx2 * dy1 / dy2)\n",
    "    t2 = (y1 - y2 + t1 * dy1) / dy2\n",
    "    \n",
    "    # Compute the intersection point\n",
    "    intersection_x = x1 + t1 * dx1\n",
    "    intersection_y = y1 + t1 * dy1\n",
    "    \n",
    "    return intersection_x, intersection_y\n",
    "\n",
    "inter = compute_intersection(x[2], y[2], dx[0], dy[0], x[4], y[4], dx[1], dy[1])\n",
    "plt.scatter(inter[0], inter[1], c = 'green', s = 0.5)\n"
   ]
  }
 ],
 "metadata": {
  "kernelspec": {
   "display_name": "venv",
   "language": "python",
   "name": "python3"
  },
  "language_info": {
   "codemirror_mode": {
    "name": "ipython",
    "version": 3
   },
   "file_extension": ".py",
   "mimetype": "text/x-python",
   "name": "python",
   "nbconvert_exporter": "python",
   "pygments_lexer": "ipython3",
   "version": "3.10.11"
  },
  "orig_nbformat": 4
 },
 "nbformat": 4,
 "nbformat_minor": 2
}
